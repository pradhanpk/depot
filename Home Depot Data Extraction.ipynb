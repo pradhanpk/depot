{
 "cells": [
  {
   "cell_type": "code",
   "execution_count": 214,
   "metadata": {
    "collapsed": false
   },
   "outputs": [],
   "source": [
    "import seaborn as sns\n",
    "import matplotlib.pyplot as plt\n",
    "import numpy as np\n",
    "import pandas as pd\n",
    "import math\n",
    "\n",
    "import sklearn\n",
    "from sklearn.feature_extraction.text import TfidfVectorizer, CountVectorizer\n",
    "from sklearn.decomposition import NMF, LatentDirichletAllocation\n",
    "from sklearn import ensemble\n",
    "from sklearn import datasets\n",
    "from sklearn.utils import shuffle\n",
    "from sklearn.metrics import mean_squared_error\n",
    "\n",
    "pd.options.display.max_rows = 4\n",
    "pd.options.display.max_colwidth = 100"
   ]
  },
  {
   "cell_type": "code",
   "execution_count": 2,
   "metadata": {
    "collapsed": false
   },
   "outputs": [],
   "source": [
    "prods = pd.read_csv('product_descriptions.csv')\n",
    "test = pd.read_csv('test.csv')\n",
    "train = pd.read_csv('train.csv')\n",
    "#TODO : Havent' used attributes.csv at all"
   ]
  },
  {
   "cell_type": "code",
   "execution_count": 3,
   "metadata": {
    "collapsed": false
   },
   "outputs": [
    {
     "name": "stdout",
     "output_type": "stream",
     "text": [
      "[124428, 124428, 54667, 97460]\n",
      "124428\n",
      "120348\n"
     ]
    },
    {
     "name": "stderr",
     "output_type": "stream",
     "text": [
      "/usr/local/lib/python2.7/site-packages/ipykernel/__main__.py:9: SettingWithCopyWarning: \n",
      "A value is trying to be set on a copy of a slice from a DataFrame\n",
      "\n",
      "See the caveats in the documentation: http://pandas.pydata.org/pandas-docs/stable/indexing.html#indexing-view-versus-copy\n"
     ]
    }
   ],
   "source": [
    "#product_descriptions.csv doesn't have the \"product_title\" column. Augmenting it with the values from the full dataset.\n",
    "train_uids = train.filter(items=['product_uid', 'product_title'])\n",
    "test_uids = test.filter(items=['product_uid', 'product_title'])\n",
    "data_uids = train_uids.merge(test_uids, how = \"outer\", on = 'product_uid')\n",
    "\n",
    "data_uids['product_title'] = data_uids['product_title_x']\n",
    "nas = data_uids['product_title'].isnull()\n",
    "#The below statement throws a SettingWithCopyWarning because of the [a][b] indexing. Its safe in this case.\n",
    "data_uids['product_title'][nas] = data_uids['product_title_y'][nas]\n",
    "del data_uids['product_title_x'], data_uids['product_title_y']\n",
    "data_uids.drop_duplicates(subset=['product_uid', 'product_title'], inplace=True)\n",
    "\n",
    "prods = prods.merge(data_uids, on=\"product_uid\")\n",
    "prods['full_description'] = prods['product_title'] + \". \" + prods['product_description']\n",
    "print(map(len, [np.unique(df['product_uid'].values) for df in [prods, data_uids, train, test]]))\n",
    "\n",
    "#We have title dupes\n",
    "print(len(np.unique(data_uids['product_uid'].values)))\n",
    "print(len(np.unique(data_uids['product_title'].values)))"
   ]
  },
  {
   "cell_type": "code",
   "execution_count": 4,
   "metadata": {
    "collapsed": false
   },
   "outputs": [],
   "source": [
    "#This extracts the term counts per product description + title\n",
    "tf_vectorizer = CountVectorizer(stop_words='english', strip_accents='unicode', decode_error='replace')\n",
    "full_desc = prods['full_description']\n",
    "tf = tf_vectorizer.fit_transform(full_desc)"
   ]
  },
  {
   "cell_type": "code",
   "execution_count": 6,
   "metadata": {
    "collapsed": false,
    "scrolled": true
   },
   "outputs": [
    {
     "name": "stderr",
     "output_type": "stream",
     "text": [
      "[Parallel(n_jobs=8)]: Done   8 out of   8 | elapsed:    2.7s finished\n",
      "[Parallel(n_jobs=8)]: Done   8 out of   8 | elapsed:    2.4s finished\n",
      "[Parallel(n_jobs=8)]: Done   8 out of   8 | elapsed:    2.3s finished\n",
      "[Parallel(n_jobs=8)]: Done   8 out of   8 | elapsed:    2.1s finished\n",
      "[Parallel(n_jobs=8)]: Done   8 out of   8 | elapsed:    1.9s finished\n",
      "[Parallel(n_jobs=8)]: Done   8 out of   8 | elapsed:    1.9s finished\n",
      "[Parallel(n_jobs=8)]: Done   8 out of   8 | elapsed:    2.0s finished\n",
      "[Parallel(n_jobs=8)]: Done   8 out of   8 | elapsed:    1.9s finished\n",
      "[Parallel(n_jobs=8)]: Done   8 out of   8 | elapsed:    1.5s finished\n",
      "[Parallel(n_jobs=8)]: Done   8 out of   8 | elapsed:    2.4s finished\n",
      "[Parallel(n_jobs=8)]: Done   8 out of   8 | elapsed:    1.8s finished\n",
      "[Parallel(n_jobs=8)]: Done   8 out of   8 | elapsed:    1.6s finished\n",
      "[Parallel(n_jobs=8)]: Done   8 out of   8 | elapsed:    1.7s finished\n",
      "[Parallel(n_jobs=8)]: Done   8 out of   8 | elapsed:    1.8s finished\n",
      "[Parallel(n_jobs=8)]: Done   8 out of   8 | elapsed:    3.7s finished\n",
      "[Parallel(n_jobs=8)]: Done   8 out of   8 | elapsed:    1.8s finished\n",
      "[Parallel(n_jobs=8)]: Done   8 out of   8 | elapsed:    1.5s finished\n",
      "[Parallel(n_jobs=8)]: Done   8 out of   8 | elapsed:    3.2s finished\n",
      "[Parallel(n_jobs=8)]: Done   8 out of   8 | elapsed:    1.4s finished\n",
      "[Parallel(n_jobs=8)]: Done   8 out of   8 | elapsed:    4.2s finished\n",
      "[Parallel(n_jobs=8)]: Done   8 out of   8 | elapsed:    3.6s finished\n",
      "[Parallel(n_jobs=8)]: Done   8 out of   8 | elapsed:    2.2s finished\n",
      "[Parallel(n_jobs=8)]: Done   8 out of   8 | elapsed:    2.1s finished\n",
      "[Parallel(n_jobs=8)]: Done   8 out of   8 | elapsed:    3.5s finished\n",
      "[Parallel(n_jobs=8)]: Done   8 out of   8 | elapsed:    3.8s finished\n",
      "[Parallel(n_jobs=8)]: Done   8 out of   8 | elapsed:    3.5s finished\n",
      "[Parallel(n_jobs=8)]: Done   8 out of   8 | elapsed:    2.6s finished\n",
      "[Parallel(n_jobs=8)]: Done   8 out of   8 | elapsed:    2.0s finished\n",
      "[Parallel(n_jobs=8)]: Done   8 out of   8 | elapsed:    2.3s finished\n",
      "[Parallel(n_jobs=8)]: Done   8 out of   8 | elapsed:    4.4s finished\n",
      "[Parallel(n_jobs=8)]: Done   8 out of   8 | elapsed:    5.3s finished\n",
      "[Parallel(n_jobs=8)]: Done   8 out of   8 | elapsed:    2.4s finished\n",
      "[Parallel(n_jobs=8)]: Done   8 out of   8 | elapsed:    3.0s finished\n",
      "[Parallel(n_jobs=8)]: Done   8 out of   8 | elapsed:    1.9s finished\n",
      "[Parallel(n_jobs=8)]: Done   8 out of   8 | elapsed:    2.2s finished\n",
      "[Parallel(n_jobs=8)]: Done   8 out of   8 | elapsed:    3.9s finished\n",
      "[Parallel(n_jobs=8)]: Done   8 out of   8 | elapsed:    2.1s finished\n",
      "[Parallel(n_jobs=8)]: Done   8 out of   8 | elapsed:    2.5s finished\n",
      "[Parallel(n_jobs=8)]: Done   8 out of   8 | elapsed:    2.3s finished\n",
      "[Parallel(n_jobs=8)]: Done   8 out of   8 | elapsed:    2.3s finished\n",
      "[Parallel(n_jobs=8)]: Done   8 out of   8 | elapsed:    1.6s finished\n",
      "[Parallel(n_jobs=8)]: Done   8 out of   8 | elapsed:    1.9s finished\n",
      "[Parallel(n_jobs=8)]: Done   8 out of   8 | elapsed:    3.6s finished\n",
      "[Parallel(n_jobs=8)]: Done   8 out of   8 | elapsed:    2.7s finished\n",
      "[Parallel(n_jobs=8)]: Done   8 out of   8 | elapsed:    2.6s finished\n",
      "[Parallel(n_jobs=8)]: Done   8 out of   8 | elapsed:    2.8s finished\n",
      "[Parallel(n_jobs=8)]: Done   8 out of   8 | elapsed:    2.3s finished\n",
      "[Parallel(n_jobs=8)]: Done   8 out of   8 | elapsed:    2.4s finished\n",
      "[Parallel(n_jobs=8)]: Done   8 out of   8 | elapsed:    2.6s finished\n",
      "[Parallel(n_jobs=8)]: Done   8 out of   8 | elapsed:    1.3s finished\n",
      "[Parallel(n_jobs=8)]: Done   8 out of   8 | elapsed:    2.5s finished\n",
      "[Parallel(n_jobs=8)]: Done   8 out of   8 | elapsed:    2.5s finished\n",
      "[Parallel(n_jobs=8)]: Done   8 out of   8 | elapsed:    1.7s finished\n",
      "[Parallel(n_jobs=8)]: Done   8 out of   8 | elapsed:    1.8s finished\n",
      "[Parallel(n_jobs=8)]: Done   8 out of   8 | elapsed:    2.5s finished\n",
      "[Parallel(n_jobs=8)]: Done   8 out of   8 | elapsed:    1.4s finished\n",
      "[Parallel(n_jobs=8)]: Done   8 out of   8 | elapsed:    2.0s finished\n",
      "[Parallel(n_jobs=8)]: Done   8 out of   8 | elapsed:    1.7s finished\n",
      "[Parallel(n_jobs=8)]: Done   8 out of   8 | elapsed:    2.0s finished\n",
      "[Parallel(n_jobs=8)]: Done   8 out of   8 | elapsed:    1.7s finished\n",
      "[Parallel(n_jobs=8)]: Done   8 out of   8 | elapsed:    1.5s finished\n",
      "[Parallel(n_jobs=8)]: Done   8 out of   8 | elapsed:    1.6s finished\n",
      "[Parallel(n_jobs=8)]: Done   8 out of   8 | elapsed:    1.3s finished\n",
      "[Parallel(n_jobs=8)]: Done   8 out of   8 | elapsed:    2.3s finished\n",
      "[Parallel(n_jobs=8)]: Done   8 out of   8 | elapsed:    1.7s finished\n",
      "[Parallel(n_jobs=8)]: Done   8 out of   8 | elapsed:    2.0s finished\n",
      "[Parallel(n_jobs=8)]: Done   8 out of   8 | elapsed:    1.8s finished\n",
      "[Parallel(n_jobs=8)]: Done   8 out of   8 | elapsed:    1.9s finished\n",
      "[Parallel(n_jobs=8)]: Done   8 out of   8 | elapsed:    2.0s finished\n",
      "[Parallel(n_jobs=8)]: Done   8 out of   8 | elapsed:    1.9s finished\n",
      "[Parallel(n_jobs=8)]: Done   8 out of   8 | elapsed:    2.7s finished\n",
      "[Parallel(n_jobs=8)]: Done   8 out of   8 | elapsed:    1.4s finished\n",
      "[Parallel(n_jobs=8)]: Done   8 out of   8 | elapsed:    1.5s finished\n",
      "[Parallel(n_jobs=8)]: Done   8 out of   8 | elapsed:    1.9s finished\n",
      "[Parallel(n_jobs=8)]: Done   8 out of   8 | elapsed:    2.0s finished\n",
      "[Parallel(n_jobs=8)]: Done   8 out of   8 | elapsed:    2.2s finished\n",
      "[Parallel(n_jobs=8)]: Done   8 out of   8 | elapsed:    2.7s finished\n",
      "[Parallel(n_jobs=8)]: Done   8 out of   8 | elapsed:    1.6s finished\n",
      "[Parallel(n_jobs=8)]: Done   8 out of   8 | elapsed:    1.8s finished\n",
      "[Parallel(n_jobs=8)]: Done   8 out of   8 | elapsed:    1.6s finished\n",
      "[Parallel(n_jobs=8)]: Done   8 out of   8 | elapsed:    1.8s finished\n",
      "[Parallel(n_jobs=8)]: Done   8 out of   8 | elapsed:    1.9s finished\n",
      "[Parallel(n_jobs=8)]: Done   8 out of   8 | elapsed:    1.3s finished\n",
      "[Parallel(n_jobs=8)]: Done   8 out of   8 | elapsed:    1.4s finished\n",
      "[Parallel(n_jobs=8)]: Done   8 out of   8 | elapsed:    2.0s finished\n",
      "[Parallel(n_jobs=8)]: Done   8 out of   8 | elapsed:    1.5s finished\n",
      "[Parallel(n_jobs=8)]: Done   8 out of   8 | elapsed:    1.4s finished\n",
      "[Parallel(n_jobs=8)]: Done   8 out of   8 | elapsed:    2.6s finished\n",
      "[Parallel(n_jobs=8)]: Done   8 out of   8 | elapsed:    2.0s finished\n",
      "[Parallel(n_jobs=8)]: Done   8 out of   8 | elapsed:    2.2s finished\n",
      "[Parallel(n_jobs=8)]: Done   8 out of   8 | elapsed:    2.1s finished\n",
      "[Parallel(n_jobs=8)]: Done   8 out of   8 | elapsed:    2.2s finished\n",
      "[Parallel(n_jobs=8)]: Done   8 out of   8 | elapsed:    2.3s finished\n",
      "[Parallel(n_jobs=8)]: Done   8 out of   8 | elapsed:    2.0s finished\n",
      "[Parallel(n_jobs=8)]: Done   8 out of   8 | elapsed:    1.8s finished\n",
      "[Parallel(n_jobs=8)]: Done   8 out of   8 | elapsed:    2.1s finished\n",
      "[Parallel(n_jobs=8)]: Done   8 out of   8 | elapsed:    1.3s finished\n",
      "[Parallel(n_jobs=8)]: Done   8 out of   8 | elapsed:    1.9s finished\n",
      "[Parallel(n_jobs=8)]: Done   8 out of   8 | elapsed:    1.9s finished\n",
      "[Parallel(n_jobs=8)]: Done   8 out of   8 | elapsed:    1.8s finished\n",
      "[Parallel(n_jobs=8)]: Done   8 out of   8 | elapsed:    1.9s finished\n",
      "[Parallel(n_jobs=8)]: Done   8 out of   8 | elapsed:    1.8s finished\n",
      "[Parallel(n_jobs=8)]: Done   8 out of   8 | elapsed:    2.1s finished\n",
      "[Parallel(n_jobs=8)]: Done   8 out of   8 | elapsed:    2.3s finished\n",
      "[Parallel(n_jobs=8)]: Done   8 out of   8 | elapsed:    1.4s finished\n",
      "[Parallel(n_jobs=8)]: Done   8 out of   8 | elapsed:    1.8s finished\n",
      "[Parallel(n_jobs=8)]: Done   8 out of   8 | elapsed:    2.0s finished\n",
      "[Parallel(n_jobs=8)]: Done   8 out of   8 | elapsed:    2.0s finished\n",
      "[Parallel(n_jobs=8)]: Done   8 out of   8 | elapsed:    1.7s finished\n",
      "[Parallel(n_jobs=8)]: Done   8 out of   8 | elapsed:    2.1s finished\n",
      "[Parallel(n_jobs=8)]: Done   8 out of   8 | elapsed:    1.5s finished\n",
      "[Parallel(n_jobs=8)]: Done   8 out of   8 | elapsed:    1.9s finished\n",
      "[Parallel(n_jobs=8)]: Done   8 out of   8 | elapsed:    2.0s finished\n",
      "[Parallel(n_jobs=8)]: Done   8 out of   8 | elapsed:    1.9s finished\n",
      "[Parallel(n_jobs=8)]: Done   8 out of   8 | elapsed:    1.4s finished\n",
      "[Parallel(n_jobs=8)]: Done   8 out of   8 | elapsed:    2.1s finished\n",
      "[Parallel(n_jobs=8)]: Done   8 out of   8 | elapsed:    2.0s finished\n",
      "[Parallel(n_jobs=8)]: Done   8 out of   8 | elapsed:    1.5s finished\n",
      "[Parallel(n_jobs=8)]: Done   8 out of   8 | elapsed:    1.8s finished\n",
      "[Parallel(n_jobs=8)]: Done   8 out of   8 | elapsed:    1.5s finished\n",
      "[Parallel(n_jobs=8)]: Done   8 out of   8 | elapsed:    1.6s finished\n",
      "[Parallel(n_jobs=8)]: Done   8 out of   8 | elapsed:    1.5s finished\n",
      "[Parallel(n_jobs=8)]: Done   8 out of   8 | elapsed:    2.1s finished\n",
      "[Parallel(n_jobs=8)]: Done   8 out of   8 | elapsed:    1.5s finished\n",
      "[Parallel(n_jobs=8)]: Done   8 out of   8 | elapsed:    2.0s finished\n",
      "[Parallel(n_jobs=8)]: Done   8 out of   8 | elapsed:    1.9s finished\n",
      "[Parallel(n_jobs=8)]: Done   8 out of   8 | elapsed:    1.5s finished\n",
      "[Parallel(n_jobs=8)]: Done   8 out of   8 | elapsed:    1.4s finished\n",
      "[Parallel(n_jobs=8)]: Done   8 out of   8 | elapsed:    2.3s finished\n",
      "[Parallel(n_jobs=8)]: Done   8 out of   8 | elapsed:    2.8s finished\n",
      "[Parallel(n_jobs=8)]: Done   8 out of   8 | elapsed:    2.1s finished\n",
      "[Parallel(n_jobs=8)]: Done   8 out of   8 | elapsed:    2.2s finished\n",
      "[Parallel(n_jobs=8)]: Done   8 out of   8 | elapsed:    1.9s finished\n",
      "[Parallel(n_jobs=8)]: Done   8 out of   8 | elapsed:    2.1s finished\n",
      "[Parallel(n_jobs=8)]: Done   8 out of   8 | elapsed:    1.3s finished\n",
      "[Parallel(n_jobs=8)]: Done   8 out of   8 | elapsed:    2.0s finished\n",
      "[Parallel(n_jobs=8)]: Done   8 out of   8 | elapsed:    2.4s finished\n",
      "[Parallel(n_jobs=8)]: Done   8 out of   8 | elapsed:    1.7s finished\n",
      "[Parallel(n_jobs=8)]: Done   8 out of   8 | elapsed:    2.2s finished\n",
      "[Parallel(n_jobs=8)]: Done   8 out of   8 | elapsed:    1.9s finished\n",
      "[Parallel(n_jobs=8)]: Done   8 out of   8 | elapsed:    2.0s finished\n",
      "[Parallel(n_jobs=8)]: Done   8 out of   8 | elapsed:    2.1s finished\n",
      "[Parallel(n_jobs=8)]: Done   8 out of   8 | elapsed:    2.0s finished\n",
      "[Parallel(n_jobs=8)]: Done   8 out of   8 | elapsed:    1.5s finished\n",
      "[Parallel(n_jobs=8)]: Done   8 out of   8 | elapsed:    1.8s finished\n",
      "[Parallel(n_jobs=8)]: Done   8 out of   8 | elapsed:    1.5s finished\n",
      "[Parallel(n_jobs=8)]: Done   8 out of   8 | elapsed:    1.9s finished\n",
      "[Parallel(n_jobs=8)]: Done   8 out of   8 | elapsed:    1.4s finished\n",
      "[Parallel(n_jobs=8)]: Done   8 out of   8 | elapsed:    2.0s finished\n",
      "[Parallel(n_jobs=8)]: Done   8 out of   8 | elapsed:    1.7s finished\n",
      "[Parallel(n_jobs=8)]: Done   8 out of   8 | elapsed:    1.6s finished\n",
      "[Parallel(n_jobs=8)]: Done   8 out of   8 | elapsed:    1.3s finished\n",
      "[Parallel(n_jobs=8)]: Done   8 out of   8 | elapsed:    1.4s finished\n",
      "[Parallel(n_jobs=8)]: Done   8 out of   8 | elapsed:    2.6s finished\n",
      "[Parallel(n_jobs=8)]: Done   8 out of   8 | elapsed:    1.3s finished\n",
      "[Parallel(n_jobs=8)]: Done   8 out of   8 | elapsed:    1.9s finished\n",
      "[Parallel(n_jobs=8)]: Done   8 out of   8 | elapsed:    1.9s finished\n",
      "[Parallel(n_jobs=8)]: Done   8 out of   8 | elapsed:    2.2s finished\n",
      "[Parallel(n_jobs=8)]: Done   8 out of   8 | elapsed:    1.6s finished\n",
      "[Parallel(n_jobs=8)]: Done   8 out of   8 | elapsed:    1.9s finished\n",
      "[Parallel(n_jobs=8)]: Done   8 out of   8 | elapsed:    1.6s finished\n",
      "[Parallel(n_jobs=8)]: Done   8 out of   8 | elapsed:    1.4s finished\n",
      "[Parallel(n_jobs=8)]: Done   8 out of   8 | elapsed:    2.7s finished\n",
      "[Parallel(n_jobs=8)]: Done   8 out of   8 | elapsed:    1.5s finished\n",
      "[Parallel(n_jobs=8)]: Done   8 out of   8 | elapsed:    2.0s finished\n",
      "[Parallel(n_jobs=8)]: Done   8 out of   8 | elapsed:    2.2s finished\n",
      "[Parallel(n_jobs=8)]: Done   8 out of   8 | elapsed:    2.1s finished\n",
      "[Parallel(n_jobs=8)]: Done   8 out of   8 | elapsed:    1.9s finished\n",
      "[Parallel(n_jobs=8)]: Done   8 out of   8 | elapsed:    1.9s finished\n",
      "[Parallel(n_jobs=8)]: Done   8 out of   8 | elapsed:    1.6s finished\n",
      "[Parallel(n_jobs=8)]: Done   8 out of   8 | elapsed:    2.0s finished\n",
      "[Parallel(n_jobs=8)]: Done   8 out of   8 | elapsed:    2.6s finished\n",
      "[Parallel(n_jobs=8)]: Done   8 out of   8 | elapsed:    1.6s finished\n",
      "[Parallel(n_jobs=8)]: Done   8 out of   8 | elapsed:    1.4s finished\n",
      "[Parallel(n_jobs=8)]: Done   8 out of   8 | elapsed:    1.8s finished\n",
      "[Parallel(n_jobs=8)]: Done   8 out of   8 | elapsed:    2.2s finished\n",
      "[Parallel(n_jobs=8)]: Done   8 out of   8 | elapsed:    1.9s finished\n",
      "[Parallel(n_jobs=8)]: Done   8 out of   8 | elapsed:    2.3s finished\n",
      "[Parallel(n_jobs=8)]: Done   8 out of   8 | elapsed:    1.3s finished\n",
      "[Parallel(n_jobs=8)]: Done   8 out of   8 | elapsed:    2.2s finished\n",
      "[Parallel(n_jobs=8)]: Done   8 out of   8 | elapsed:    2.0s finished\n",
      "[Parallel(n_jobs=8)]: Done   8 out of   8 | elapsed:    1.4s finished\n",
      "[Parallel(n_jobs=8)]: Done   8 out of   8 | elapsed:    1.8s finished\n",
      "[Parallel(n_jobs=8)]: Done   8 out of   8 | elapsed:    1.7s finished\n",
      "[Parallel(n_jobs=8)]: Done   8 out of   8 | elapsed:    1.9s finished\n",
      "[Parallel(n_jobs=8)]: Done   8 out of   8 | elapsed:    2.0s finished\n",
      "[Parallel(n_jobs=8)]: Done   8 out of   8 | elapsed:    1.8s finished\n",
      "[Parallel(n_jobs=8)]: Done   8 out of   8 | elapsed:    1.6s finished\n",
      "[Parallel(n_jobs=8)]: Done   8 out of   8 | elapsed:    1.6s finished\n",
      "[Parallel(n_jobs=8)]: Done   8 out of   8 | elapsed:    2.0s finished\n",
      "[Parallel(n_jobs=8)]: Done   8 out of   8 | elapsed:    2.7s finished\n",
      "[Parallel(n_jobs=8)]: Done   8 out of   8 | elapsed:    1.9s finished\n",
      "[Parallel(n_jobs=8)]: Done   8 out of   8 | elapsed:    2.0s finished\n",
      "[Parallel(n_jobs=8)]: Done   8 out of   8 | elapsed:    1.4s finished\n",
      "[Parallel(n_jobs=8)]: Done   8 out of   8 | elapsed:    1.9s finished\n",
      "[Parallel(n_jobs=8)]: Done   8 out of   8 | elapsed:    1.8s finished\n",
      "[Parallel(n_jobs=8)]: Done   8 out of   8 | elapsed:    1.5s finished\n",
      "[Parallel(n_jobs=8)]: Done   8 out of   8 | elapsed:    2.1s finished\n",
      "[Parallel(n_jobs=8)]: Done   8 out of   8 | elapsed:    2.3s finished\n",
      "[Parallel(n_jobs=8)]: Done   8 out of   8 | elapsed:    1.8s finished\n",
      "[Parallel(n_jobs=8)]: Done   8 out of   8 | elapsed:    1.4s finished\n",
      "[Parallel(n_jobs=8)]: Done   8 out of   8 | elapsed:    1.9s finished\n",
      "[Parallel(n_jobs=8)]: Done   8 out of   8 | elapsed:    2.6s finished\n",
      "[Parallel(n_jobs=8)]: Done   8 out of   8 | elapsed:    2.0s finished\n",
      "[Parallel(n_jobs=8)]: Done   8 out of   8 | elapsed:    1.4s finished\n",
      "[Parallel(n_jobs=8)]: Done   8 out of   8 | elapsed:    2.0s finished\n",
      "[Parallel(n_jobs=8)]: Done   8 out of   8 | elapsed:    2.0s finished\n",
      "[Parallel(n_jobs=8)]: Done   8 out of   8 | elapsed:    2.2s finished\n",
      "[Parallel(n_jobs=8)]: Done   8 out of   8 | elapsed:    1.6s finished\n",
      "[Parallel(n_jobs=8)]: Done   8 out of   8 | elapsed:    2.0s finished\n",
      "[Parallel(n_jobs=8)]: Done   8 out of   8 | elapsed:    1.5s finished\n",
      "[Parallel(n_jobs=8)]: Done   8 out of   8 | elapsed:    2.1s finished\n",
      "[Parallel(n_jobs=8)]: Done   8 out of   8 | elapsed:    1.6s finished\n",
      "[Parallel(n_jobs=8)]: Done   8 out of   8 | elapsed:    2.0s finished\n",
      "[Parallel(n_jobs=8)]: Done   8 out of   8 | elapsed:    2.5s finished\n",
      "[Parallel(n_jobs=8)]: Done   8 out of   8 | elapsed:    2.3s finished\n",
      "[Parallel(n_jobs=8)]: Done   8 out of   8 | elapsed:    2.3s finished\n",
      "[Parallel(n_jobs=8)]: Done   8 out of   8 | elapsed:    1.9s finished\n",
      "[Parallel(n_jobs=8)]: Done   8 out of   8 | elapsed:    1.6s finished\n",
      "[Parallel(n_jobs=8)]: Done   8 out of   8 | elapsed:    1.5s finished\n",
      "[Parallel(n_jobs=8)]: Done   8 out of   8 | elapsed:    1.6s finished\n",
      "[Parallel(n_jobs=8)]: Done   8 out of   8 | elapsed:    1.5s finished\n",
      "[Parallel(n_jobs=8)]: Done   8 out of   8 | elapsed:    1.8s finished\n",
      "[Parallel(n_jobs=8)]: Done   8 out of   8 | elapsed:    1.7s finished\n",
      "[Parallel(n_jobs=8)]: Done   8 out of   8 | elapsed:    1.4s finished\n",
      "[Parallel(n_jobs=8)]: Done   8 out of   8 | elapsed:    1.8s finished\n",
      "[Parallel(n_jobs=8)]: Done   8 out of   8 | elapsed:    2.0s finished\n",
      "[Parallel(n_jobs=8)]: Done   8 out of   8 | elapsed:    2.7s finished\n",
      "[Parallel(n_jobs=8)]: Done   8 out of   8 | elapsed:    1.4s finished\n",
      "[Parallel(n_jobs=8)]: Done   8 out of   8 | elapsed:    2.1s finished\n",
      "[Parallel(n_jobs=8)]: Done   8 out of   8 | elapsed:    1.9s finished\n",
      "[Parallel(n_jobs=8)]: Done   8 out of   8 | elapsed:    2.4s finished\n",
      "[Parallel(n_jobs=8)]: Done   8 out of   8 | elapsed:    1.9s finished\n",
      "[Parallel(n_jobs=8)]: Done   8 out of   8 | elapsed:    1.8s finished\n",
      "[Parallel(n_jobs=8)]: Done   8 out of   8 | elapsed:    2.0s finished\n",
      "[Parallel(n_jobs=8)]: Done   8 out of   8 | elapsed:    1.8s finished\n",
      "[Parallel(n_jobs=8)]: Done   8 out of   8 | elapsed:    1.5s finished\n",
      "[Parallel(n_jobs=8)]: Done   8 out of   8 | elapsed:    1.4s finished\n",
      "[Parallel(n_jobs=8)]: Done   8 out of   8 | elapsed:    2.7s finished\n",
      "[Parallel(n_jobs=8)]: Done   8 out of   8 | elapsed:    1.7s finished\n",
      "[Parallel(n_jobs=8)]: Done   8 out of   8 | elapsed:    1.8s finished\n",
      "[Parallel(n_jobs=8)]: Done   8 out of   8 | elapsed:    1.9s finished\n",
      "[Parallel(n_jobs=8)]: Done   8 out of   8 | elapsed:    2.1s finished\n",
      "[Parallel(n_jobs=8)]: Done   8 out of   8 | elapsed:    1.3s finished\n",
      "[Parallel(n_jobs=8)]: Done   8 out of   8 | elapsed:    1.9s finished\n",
      "[Parallel(n_jobs=8)]: Done   8 out of   8 | elapsed:    2.1s finished\n",
      "[Parallel(n_jobs=8)]: Done   8 out of   8 | elapsed:    1.9s finished\n",
      "[Parallel(n_jobs=8)]: Done   8 out of   8 | elapsed:    1.7s finished\n",
      "[Parallel(n_jobs=8)]: Done   8 out of   8 | elapsed:    2.4s finished\n",
      "[Parallel(n_jobs=8)]: Done   8 out of   8 | elapsed:    1.3s finished\n"
     ]
    },
    {
     "data": {
      "text/plain": [
       "LatentDirichletAllocation(batch_size=2500, doc_topic_prior=None,\n",
       "             evaluate_every=-1, learning_decay=0.7,\n",
       "             learning_method='online', learning_offset=10.0,\n",
       "             max_doc_update_iter=100, max_iter=5, mean_change_tol=0.001,\n",
       "             n_jobs=8, n_topics=10, perp_tol=0.1, random_state=None,\n",
       "             topic_word_prior=None, total_samples=1000000.0, verbose=5)"
      ]
     },
     "execution_count": 6,
     "metadata": {},
     "output_type": "execute_result"
    }
   ],
   "source": [
    "#Should grid-search on max_iter, n_topics, learning_*, batch_size\n",
    "#TODO : Do we have any meaningful topic priors? A uniform dirichlet with concentration param < 1 seems natural here.\n",
    "#TODO : The default conc. param is 1/n_topics. What does this imply?\n",
    "#TODO : Separate the brand out into another variable. Don't have it participate in the lda.\n",
    "lda = LatentDirichletAllocation(n_topics=10, max_iter=5, verbose=5, n_jobs=8, batch_size=2500)\n",
    "topic_dists = lda.fit_transform(tf)"
   ]
  },
  {
   "cell_type": "code",
   "execution_count": 16,
   "metadata": {
    "collapsed": true
   },
   "outputs": [],
   "source": [
    "#From the sklearn topic extraction example\n",
    "def print_top_words(model, feature_names, n_top_words):\n",
    "    for topic_idx, topic in enumerate(model.components_):\n",
    "        print(\"Topic #%d:\" % topic_idx)\n",
    "        print(\" \".join([feature_names[i]\n",
    "                        for i in topic.argsort()[:-n_top_words - 1:-1]]))"
   ]
  },
  {
   "cell_type": "code",
   "execution_count": 17,
   "metadata": {
    "collapsed": false,
    "scrolled": true
   },
   "outputs": [
    {
     "name": "stdout",
     "output_type": "stream",
     "text": [
      "Topic #0:\n",
      "easy mmnumber 2sink finish design vanity door cardell kingsley white\n",
      "Topic #1:\n",
      "steel door easy ft use storage high design used installation\n",
      "Topic #2:\n",
      "whitewall efv jerk awningtime sensor100 acrylicwater light easy ft bracketsoptional\n",
      "Topic #3:\n",
      "ft easy steel use 10 water home trayshigh design provides\n",
      "Topic #4:\n",
      "mpi easy paint use finish ft water color door resistant\n",
      "Topic #5:\n",
      "efv easy ft use steel light high power installation provides\n",
      "Topic #6:\n",
      "presto plastpro use easy tayse door screwdriverada home wall steel\n",
      "Topic #7:\n",
      "mixet kaarskoker light door easy water use finish glass shower\n",
      "Topic #8:\n",
      "use light steel easy water metal hestra high paint ft\n",
      "Topic #9:\n",
      "efv plastpro packcheck easy packelectro water use framefpr7sold home steel\n"
     ]
    }
   ],
   "source": [
    "feature_names = tf_vectorizer.get_feature_names()\n",
    "print_top_words(lda, feature_names, 10)\n",
    "#TODO : The data is shitty, as someone pointed out on the forum. Might need to filter things like\n",
    "#mmnumber, 2sink, screwdriverada, acrylicwater, bracketsoptional, awningtime..."
   ]
  },
  {
   "cell_type": "code",
   "execution_count": 246,
   "metadata": {
    "collapsed": false
   },
   "outputs": [],
   "source": [
    "#topic_dists will is the distribution you get from transforming your product descriptions using your model.\n",
    "#For example, if using lda, you will countVectorize the product descriptions and then fit this to an lda model.\n",
    "#topic_dists will be this model's transform of the countVectorized data.\n",
    "\n",
    "#TODO : We are assuming that df['product_uid'] - 100001 corresponds to the row-index of topic_dists\n",
    "\n",
    "#TODO : The normalized topic_dists fall off exponentially. So might make sense to work with their log when\n",
    "#plugging them into a regression model.\n",
    "\n",
    "def augment_with_topic_dist(df, topic_dists, prefix, inplace=False, use_row_inds=False):\n",
    "    \n",
    "    frame = None\n",
    "    if inplace:\n",
    "        frame = df\n",
    "    else:\n",
    "        frame = df.copy()\n",
    "    \n",
    "    #Normalize the row-sums of topic_dists to 1\n",
    "    #TODO : Does this make sense though? Aren't these the dirichlet alpha's?\n",
    "    dist_sums = topic_dists.sum(axis=1).reshape(len(topic_dists), 1)\n",
    "    topic_dists_normed = topic_dists / dist_sums\n",
    "    \n",
    "    assert not use_row_inds or (len(frame) == len(topic_dists))\n",
    "    inds = np.arange(len(frame)) if use_row_inds else (frame['product_uid'] - 100001)\n",
    "    \n",
    "    for feat_num in range(topic_dists_normed.shape[1]):\n",
    "        frame['{}_{}'.format(prefix, feat_num)] = topic_dists_normed[inds, feat_num] \n",
    "    \n",
    "    return frame\n",
    "\n",
    "\n",
    "#TODO : How do we extract the topic distributions for the search terms if they contain words not in the product_descs?\n",
    "#data should be a iterable of strings to transform\n",
    "def get_topic_dists(data, model, vectorizer):\n",
    "\n",
    "    data_tf = vectorizer.transform(data)\n",
    "    return model.transform(data_tf)\n",
    "\n",
    "\n",
    "def get_reg_data(df, model, vectorizer, prod_desc_dists):\n",
    "    \n",
    "    search_dists = get_topic_dists(df['search_term'], model, vectorizer)\n",
    "    aug_df = augment_with_topic_dist(df, prod_desc_dists, \"prod_dist\")\n",
    "    aug_df = augment_with_topic_dist(aug_df, search_dists, \"search_dist\", use_row_inds=True)\n",
    "    \n",
    "    x = aug_df.filter(regex=\"_dist_[0-9]\")\n",
    "    y = None\n",
    "    try:\n",
    "        y = np.ravel(aug_df['relevance'])\n",
    "    except:\n",
    "        print \"No targets\"\n",
    "\n",
    "    return x, y\n",
    "\n",
    "def write_submission(test_data, pred, fname = \"predictions.csv\"):\n",
    "    \n",
    "    submit_df = pd.DataFrame(columns=[\"id\", \"relevance\"])\n",
    "    submit_df['id'] = test['id']\n",
    "\n",
    "    clipped_pred = np.clip(pred, 1.0, 3.0)\n",
    "    submit_df['relevance'] = clipped_pred\n",
    "    \n",
    "    submit_df.columns = ['\"' + col + '\"' for col in submit_df.columns]\n",
    "    submit_df.to_csv(fname, index=False, quotechar='\\\\')\n",
    "    \n",
    "    return submit_df"
   ]
  },
  {
   "cell_type": "code",
   "execution_count": 196,
   "metadata": {
    "collapsed": false
   },
   "outputs": [
    {
     "name": "stderr",
     "output_type": "stream",
     "text": [
      "[Parallel(n_jobs=8)]: Done   8 out of   8 | elapsed:    3.6s finished\n"
     ]
    },
    {
     "name": "stdout",
     "output_type": "stream",
     "text": [
      "No targets\n"
     ]
    },
    {
     "name": "stderr",
     "output_type": "stream",
     "text": [
      "[Parallel(n_jobs=8)]: Done   8 out of   8 | elapsed:    7.2s finished\n"
     ]
    }
   ],
   "source": [
    "#TODO : Right now, we have no test set. Need to hold out part of the train\n",
    "train_x, train_y = get_reg_data(train, lda, tf_vectorizer, topics)\n",
    "test_x, test_y = get_reg_data(test, lda, tf_vectorizer, topics)"
   ]
  },
  {
   "cell_type": "code",
   "execution_count": 247,
   "metadata": {
    "collapsed": true
   },
   "outputs": [],
   "source": [
    "relevance_reg = ensemble.GradientBoostingRegressor(n_estimators=2000, subsample=0.5, max_depth=5, verbose=1)"
   ]
  },
  {
   "cell_type": "code",
   "execution_count": 248,
   "metadata": {
    "collapsed": false
   },
   "outputs": [
    {
     "name": "stdout",
     "output_type": "stream",
     "text": [
      "      Iter       Train Loss      OOB Improve   Remaining Time \n",
      "         1           0.2825           0.0015           13.56m\n",
      "         2           0.2816           0.0013           14.20m\n",
      "         3           0.2805           0.0011           14.03m\n",
      "         4           0.2787           0.0011           13.86m\n",
      "         5           0.2781           0.0007           13.76m\n",
      "         6           0.2765           0.0006           13.69m\n",
      "         7           0.2779           0.0007           13.72m\n",
      "         8           0.2758           0.0006           13.68m\n",
      "         9           0.2734           0.0005           13.64m\n",
      "        10           0.2746           0.0005           13.63m\n",
      "        20           0.2698           0.0001           13.40m\n",
      "        30           0.2708           0.0001           13.14m\n",
      "        40           0.2646           0.0000           12.93m\n",
      "        50           0.2657           0.0000           12.76m\n",
      "        60           0.2608          -0.0000           12.58m\n",
      "        70           0.2631           0.0001           12.47m\n",
      "        80           0.2601          -0.0000           12.36m\n",
      "        90           0.2587           0.0001           12.25m\n",
      "       100           0.2574          -0.0000           12.17m\n",
      "       200           0.2471          -0.0000           11.49m\n",
      "       300           0.2369          -0.0000           10.93m\n",
      "       400           0.2258           0.0000           10.48m\n",
      "       500           0.2169          -0.0000            9.77m\n",
      "       600           0.2083          -0.0000            9.08m\n",
      "       700           0.2013          -0.0000            8.47m\n",
      "       800           0.1932          -0.0000            7.95m\n",
      "       900           0.1856          -0.0000            7.36m\n",
      "      1000           0.1806          -0.0000            6.78m\n",
      "      2000           0.1323          -0.0000            0.00s\n"
     ]
    },
    {
     "data": {
      "text/plain": [
       "GradientBoostingRegressor(alpha=0.9, init=None, learning_rate=0.1, loss='ls',\n",
       "             max_depth=5, max_features=None, max_leaf_nodes=None,\n",
       "             min_samples_leaf=1, min_samples_split=2,\n",
       "             min_weight_fraction_leaf=0.0, n_estimators=2000,\n",
       "             presort='auto', random_state=None, subsample=0.5, verbose=1,\n",
       "             warm_start=False)"
      ]
     },
     "execution_count": 248,
     "metadata": {},
     "output_type": "execute_result"
    }
   ],
   "source": [
    "relevance_reg.fit(train_x, train_y)"
   ]
  },
  {
   "cell_type": "code",
   "execution_count": 249,
   "metadata": {
    "collapsed": false
   },
   "outputs": [
    {
     "data": {
      "text/html": [
       "<div>\n",
       "<table border=\"1\" class=\"dataframe\">\n",
       "  <thead>\n",
       "    <tr style=\"text-align: right;\">\n",
       "      <th></th>\n",
       "      <th>\"id\"</th>\n",
       "      <th>\"relevance\"</th>\n",
       "    </tr>\n",
       "  </thead>\n",
       "  <tbody>\n",
       "    <tr>\n",
       "      <th>0</th>\n",
       "      <td>1</td>\n",
       "      <td>2.701755</td>\n",
       "    </tr>\n",
       "    <tr>\n",
       "      <th>1</th>\n",
       "      <td>4</td>\n",
       "      <td>2.638092</td>\n",
       "    </tr>\n",
       "    <tr>\n",
       "      <th>...</th>\n",
       "      <td>...</td>\n",
       "      <td>...</td>\n",
       "    </tr>\n",
       "    <tr>\n",
       "      <th>166691</th>\n",
       "      <td>240759</td>\n",
       "      <td>2.610292</td>\n",
       "    </tr>\n",
       "    <tr>\n",
       "      <th>166692</th>\n",
       "      <td>240760</td>\n",
       "      <td>1.788169</td>\n",
       "    </tr>\n",
       "  </tbody>\n",
       "</table>\n",
       "<p>166693 rows × 2 columns</p>\n",
       "</div>"
      ],
      "text/plain": [
       "          \"id\"  \"relevance\"\n",
       "0            1     2.701755\n",
       "1            4     2.638092\n",
       "...        ...          ...\n",
       "166691  240759     2.610292\n",
       "166692  240760     1.788169\n",
       "\n",
       "[166693 rows x 2 columns]"
      ]
     },
     "execution_count": 249,
     "metadata": {},
     "output_type": "execute_result"
    }
   ],
   "source": [
    "pred_y = relevance_reg.predict(test_x)\n",
    "write_submission(test, pred_y)"
   ]
  },
  {
   "cell_type": "code",
   "execution_count": null,
   "metadata": {
    "collapsed": true
   },
   "outputs": [],
   "source": []
  }
 ],
 "metadata": {
  "kernelspec": {
   "display_name": "Python 2",
   "language": "python",
   "name": "python2"
  },
  "language_info": {
   "codemirror_mode": {
    "name": "ipython",
    "version": 2
   },
   "file_extension": ".py",
   "mimetype": "text/x-python",
   "name": "python",
   "nbconvert_exporter": "python",
   "pygments_lexer": "ipython2",
   "version": "2.7.10"
  }
 },
 "nbformat": 4,
 "nbformat_minor": 0
}
