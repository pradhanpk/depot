{
 "cells": [
  {
   "cell_type": "code",
   "execution_count": 1,
   "metadata": {
    "collapsed": false
   },
   "outputs": [],
   "source": [
    "import seaborn as sns\n",
    "import matplotlib.pyplot as plt\n",
    "import numpy as np\n",
    "import pandas as pd\n",
    "import math\n",
    "\n",
    "import sklearn\n",
    "from sklearn.feature_extraction.text import TfidfVectorizer, CountVectorizer\n",
    "from sklearn.decomposition import NMF, LatentDirichletAllocation\n",
    "from sklearn import ensemble\n",
    "from sklearn import datasets\n",
    "from sklearn.utils import shuffle\n",
    "from sklearn.metrics import mean_squared_error\n",
    "\n",
    "pd.options.display.max_rows = 4\n",
    "pd.options.display.max_colwidth = 100"
   ]
  },
  {
   "cell_type": "code",
   "execution_count": 111,
   "metadata": {
    "collapsed": false
   },
   "outputs": [],
   "source": [
    "prods = pd.read_csv('product_descriptions.csv')\n",
    "test = pd.read_csv('test.csv')\n",
    "train = pd.read_csv('train.csv')"
   ]
  },
  {
   "cell_type": "code",
   "execution_count": 98,
   "metadata": {
    "collapsed": true
   },
   "outputs": [],
   "source": [
    "attributes = pd.read_csv('attributes.csv')\n",
    "for col in ['name', 'value']:\n",
    "    attributes[col] = attributes[col].str.lower()\n",
    "\n",
    "#NOTE: The word \"brand\" in the name usually is about the mfg brand.\n",
    "#However, there are some entries about fit, compatibility and \"pump brand\", whatever that is.\n",
    "brand_name_predicate = attributes['name'].str.contains(\"brand\").fillna(False)\n",
    "brand_names = attributes[brand_name_predicate].filter(\n",
    "    items=['product_uid', 'value', 'name']).rename(columns={\"value\": \"brand_name\"})\n",
    "\n",
    "brand_names[brand_names['brand_name'] == '.n/a'] = None\n",
    "brand_names.dropna(subset=['brand_name'], inplace=True) #Need to do this before the following .str ops on a Series. Better way?\n",
    "brand_names[brand_names['brand_name'].str.contains(\"unbranded\")] = None\n",
    "brand_names.dropna(subset=['brand_name'], inplace=True)\n",
    "\n",
    "brand_filters = [brand_names['name'].str.contains(val).fillna(False)\n",
    "                 for val in [\"mfg\", \"fit\", \"compat\", \"pump\"]]\n",
    "mfg, fit, compat, pump = brand_filters\n",
    "\n",
    "other = brand_names[~(mfg | fit | compat | pump)]\n",
    "assert other.shape[0] == 0\n",
    "\n",
    "mfg_brands, fit_brands, compat_brands, pump_brands = [brand_names[filt].drop('name', axis=1) for filt in brand_filters]"
   ]
  },
  {
   "cell_type": "code",
   "execution_count": 112,
   "metadata": {
    "collapsed": false
   },
   "outputs": [
    {
     "name": "stdout",
     "output_type": "stream",
     "text": [
      "124428\n",
      "120348\n"
     ]
    },
    {
     "name": "stderr",
     "output_type": "stream",
     "text": [
      "/usr/local/lib/python2.7/site-packages/ipykernel/__main__.py:9: SettingWithCopyWarning: \n",
      "A value is trying to be set on a copy of a slice from a DataFrame\n",
      "\n",
      "See the caveats in the documentation: http://pandas.pydata.org/pandas-docs/stable/indexing.html#indexing-view-versus-copy\n"
     ]
    }
   ],
   "source": [
    "#product_descriptions.csv doesn't have the \"product_title\" column. Augmenting it with the values from the full dataset.\n",
    "train_uids = train.filter(items=['product_uid', 'product_title'])\n",
    "test_uids = test.filter(items=['product_uid', 'product_title'])\n",
    "data_uids = train_uids.merge(test_uids, how = \"outer\", on = 'product_uid')\n",
    "\n",
    "data_uids['product_title'] = data_uids['product_title_x']\n",
    "nas = data_uids['product_title'].isnull()\n",
    "#The below statement throws a SettingWithCopyWarning because of the [a][b] indexing. Its safe in this case.\n",
    "data_uids['product_title'][nas] = data_uids['product_title_y'][nas]\n",
    "del data_uids['product_title_x'], data_uids['product_title_y']\n",
    "data_uids.drop_duplicates(subset=['product_uid', 'product_title'], inplace=True)\n",
    "\n",
    "prods = prods.merge(data_uids, how='left', on=\"product_uid\")\n",
    "prods['full_description'] = prods['product_title'] + \". \" + prods['product_description']\n",
    "prods = prods.merge(mfg_brands, how=\"left\", on=\"product_uid\")\n",
    "\n",
    "uniq_lens = map(len, [np.unique(df['product_uid'].values) for df in [prods, data_uids, train, test]])\n",
    "assert uniq_lens[0] == uniq_lens[1]\n",
    "\n",
    "#We have title dupes\n",
    "print(len(np.unique(data_uids['product_uid'].values)))\n",
    "print(len(np.unique(data_uids['product_title'].values)))"
   ]
  },
  {
   "cell_type": "code",
   "execution_count": null,
   "metadata": {
    "collapsed": true
   },
   "outputs": [],
   "source": []
  }
 ],
 "metadata": {
  "kernelspec": {
   "display_name": "Python 2",
   "language": "python",
   "name": "python2"
  },
  "language_info": {
   "codemirror_mode": {
    "name": "ipython",
    "version": 2
   },
   "file_extension": ".py",
   "mimetype": "text/x-python",
   "name": "python",
   "nbconvert_exporter": "python",
   "pygments_lexer": "ipython2",
   "version": "2.7.10"
  }
 },
 "nbformat": 4,
 "nbformat_minor": 0
}
